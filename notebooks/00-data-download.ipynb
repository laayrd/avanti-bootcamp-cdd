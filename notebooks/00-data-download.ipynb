{
 "cells": [
  {
   "cell_type": "code",
   "execution_count": 1,
   "metadata": {},
   "outputs": [],
   "source": [
    "import pandas as pd"
   ]
  },
  {
   "cell_type": "code",
   "execution_count": 2,
   "metadata": {},
   "outputs": [],
   "source": [
    "#realizando a leitura dos dados do repositório remoto e salvamento na pasta raw\n",
    "df = pd.read_csv('https://raw.githubusercontent.com/atlantico-academy/datasets/refs/heads/main/diamonds.csv')\n",
    "df = df.to_csv('../data/raw/data.csv')"
   ]
  },
  {
   "cell_type": "code",
   "execution_count": 3,
   "metadata": {},
   "outputs": [],
   "source": [
    "#criando e salvando dicionário dos dados\n",
    "data_dictionary = [\n",
    "    {\n",
    "        'variavel': 'carat',\n",
    "        'descricao': 'Peso do diamante (0,2--5,01).',\n",
    "        'tipo': 'quantitativa',\n",
    "        'subtipo': 'contínua'\n",
    "    },\n",
    "    {\n",
    "        'variavel': 'cut',\n",
    "        'descricao': 'Qualidade do corte (Fair, Good, Very Good, Premium, Ideal).',\n",
    "        'tipo': 'qualitativa',\n",
    "        'subtipo': 'ordinal'\n",
    "    },\n",
    "    {\n",
    "        'variavel': 'color',\n",
    "        'descricao': 'Cor de diamante, de D (melhor) a J (pior)',\n",
    "        'tipo': 'qualitativa',\n",
    "        'subtipo': 'ordinal'\n",
    "    },\n",
    "    {\n",
    "        'variavel': 'clarity',\n",
    "        'descricao': 'Clareza do diamante (I1 (pior), SI2 SI1, VS2, VS1, VVS2, VVS1, IF (melhor)).',\n",
    "        'tipo': 'qualitativa',\n",
    "        'subtipo': 'ordinal'\n",
    "    },\n",
    "    {\n",
    "        'variavel': 'depth',\n",
    "        'descricao': 'Percentagem total de profundidade = z /média(x, y) = 2 * z / (x + y) (43--79).',\n",
    "        'tipo': 'quantitativa',\n",
    "        'subtipo': 'contínua'\n",
    "    },\n",
    "    {\n",
    "        'variavel': 'table',\n",
    "        'descricao': 'Largura do topo do diamante em relação ao ponto mais largo (43--95).',\n",
    "        'tipo': 'quantitativa',\n",
    "        'subtipo': 'contínua'\n",
    "    },\n",
    "    {\n",
    "        'variavel': 'price',\n",
    "        'descricao': 'Preço em dólares dos EUA ($326-$18,823).',\n",
    "        'tipo': 'quantitativa',\n",
    "        'subtipo': 'discreta'\n",
    "    },\n",
    "    {\n",
    "        'variavel': 'x',\n",
    "        'descricao': 'Comprimento em mm (0-10.74).',\n",
    "        'tipo': 'quantitativa',\n",
    "        'subtipo': 'contínua'\n",
    "    },\n",
    "    {\n",
    "        'variavel': 'y',\n",
    "        'descricao': 'Largura em mm (0-58.9).',\n",
    "        'tipo': 'quantitativa',\n",
    "        'subtipo': 'contínua'\n",
    "    },\n",
    "    {\n",
    "        'variavel': 'z',\n",
    "        'descricao': 'Profundidade em mm (0-31,8).',\n",
    "        'tipo': 'quantitativa',\n",
    "        'subtipo': 'contínua'\n",
    "    }\n",
    "]\n",
    "data_dictionary = pd.DataFrame(data_dictionary)\n",
    "data_dictionary.to_csv(\"../data/external/dictionary.csv\", index=False)"
   ]
  },
  {
   "cell_type": "code",
   "execution_count": 13,
   "metadata": {},
   "outputs": [],
   "source": []
  },
  {
   "cell_type": "code",
   "execution_count": null,
   "metadata": {},
   "outputs": [],
   "source": []
  }
 ],
 "metadata": {
  "kernelspec": {
   "display_name": "base",
   "language": "python",
   "name": "python3"
  },
  "language_info": {
   "codemirror_mode": {
    "name": "ipython",
    "version": 3
   },
   "file_extension": ".py",
   "mimetype": "text/x-python",
   "name": "python",
   "nbconvert_exporter": "python",
   "pygments_lexer": "ipython3",
   "version": "3.9.13"
  }
 },
 "nbformat": 4,
 "nbformat_minor": 2
}
